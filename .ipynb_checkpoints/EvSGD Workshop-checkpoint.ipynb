{
 "cells": [
  {
   "cell_type": "code",
   "execution_count": 1,
   "metadata": {
    "ExecuteTime": {
     "end_time": "2021-04-03T22:18:33.816503Z",
     "start_time": "2021-04-03T22:18:33.797185Z"
    }
   },
   "outputs": [],
   "source": [
    "import numpy as np"
   ]
  },
  {
   "cell_type": "code",
   "execution_count": 20,
   "metadata": {
    "ExecuteTime": {
     "end_time": "2021-04-03T22:31:27.742128Z",
     "start_time": "2021-04-03T22:31:27.734197Z"
    }
   },
   "outputs": [],
   "source": [
    "#pick k subset of list L\n",
    "#does not work becase of possible repeat integers\n",
    "def random_subset(L, k):\n",
    "    s = len(L)\n",
    "    L = np.array(L)\n",
    "    #indices to be chosen\n",
    "    R = s*np.random.rand(k)\n",
    "    index = R.astype(int)\n",
    "    return L[index]\n"
   ]
  },
  {
   "cell_type": "code",
   "execution_count": 40,
   "metadata": {
    "ExecuteTime": {
     "end_time": "2021-04-03T22:57:06.069846Z",
     "start_time": "2021-04-03T22:57:06.048308Z"
    }
   },
   "outputs": [],
   "source": [
    "#INPUT:\n",
    "#L: list to randomly choose subset from\n",
    "#k: k sized subset tp pick from array\n",
    "#OUTPUT:\n",
    "#subset: the random subset array picked from original list\n",
    "def rand_subset(L, k):\n",
    "    s = len(L)\n",
    "    items = np.linspace(0,s-1,s).astype(int)\n",
    "    np.random.shuffle(items)\n",
    "    index = items[:k]\n",
    "    L = np.array(L)\n",
    "    subset = L[index]\n",
    "    return subset"
   ]
  },
  {
   "cell_type": "code",
   "execution_count": 52,
   "metadata": {
    "ExecuteTime": {
     "end_time": "2021-04-03T23:00:45.689919Z",
     "start_time": "2021-04-03T23:00:45.667546Z"
    }
   },
   "outputs": [
    {
     "name": "stdout",
     "output_type": "stream",
     "text": [
      "[3 4]\n"
     ]
    },
    {
     "data": {
      "text/plain": [
       "array([15, 20])"
      ]
     },
     "execution_count": 52,
     "metadata": {},
     "output_type": "execute_result"
    }
   ],
   "source": [
    "list = [0,5,10,15,20]\n",
    "random_subset(list,2)"
   ]
  },
  {
   "cell_type": "code",
   "execution_count": 50,
   "metadata": {
    "ExecuteTime": {
     "end_time": "2021-04-03T22:57:26.542707Z",
     "start_time": "2021-04-03T22:57:26.525428Z"
    }
   },
   "outputs": [
    {
     "data": {
      "text/plain": [
       "array([1000,   10])"
      ]
     },
     "execution_count": 50,
     "metadata": {},
     "output_type": "execute_result"
    }
   ],
   "source": [
    "rand_subset(list,2)"
   ]
  },
  {
   "cell_type": "code",
   "execution_count": 71,
   "metadata": {
    "ExecuteTime": {
     "end_time": "2021-04-03T23:33:03.386944Z",
     "start_time": "2021-04-03T23:32:19.657371Z"
    }
   },
   "outputs": [],
   "source": [
    "M = np.array([])\n",
    "for i in range(100000):\n",
    "    M = np.append(M,rand_subset(list,3))"
   ]
  },
  {
   "cell_type": "code",
   "execution_count": 67,
   "metadata": {
    "ExecuteTime": {
     "end_time": "2021-04-03T23:32:00.130433Z",
     "start_time": "2021-04-03T23:32:00.108279Z"
    }
   },
   "outputs": [],
   "source": [
    "import matplotlib.pyplot as plt\n",
    "%matplotlib inline"
   ]
  },
  {
   "cell_type": "code",
   "execution_count": 73,
   "metadata": {
    "ExecuteTime": {
     "end_time": "2021-04-03T23:33:28.624520Z",
     "start_time": "2021-04-03T23:33:28.454103Z"
    }
   },
   "outputs": [
    {
     "name": "stdout",
     "output_type": "stream",
     "text": [
      "[20. 10.  0. ...  0. 15.  5.]\n",
      "300000\n"
     ]
    },
    {
     "data": {
      "image/png": "[encoded data removed]",
      "text/plain": [
       "<Figure size 432x288 with 1 Axes>"
      ]
     },
     "metadata": {
      "needs_background": "light"
     },
     "output_type": "display_data"
    }
   ],
   "source": [
    "print(M)\n",
    "print(M.size)\n",
    "hist = plt.hist(M)\n",
    "plt.show()"
   ]
  },
  {
   "cell_type": "code",
   "execution_count": 84,
   "metadata": {
    "ExecuteTime": {
     "end_time": "2021-04-03T23:35:34.282996Z",
     "start_time": "2021-04-03T23:35:34.266748Z"
    }
   },
   "outputs": [],
   "source": [
    "nums = hist[0][[0,2,5,7,9]]"
   ]
  },
  {
   "cell_type": "code",
   "execution_count": 88,
   "metadata": {
    "ExecuteTime": {
     "end_time": "2021-04-03T23:36:11.326549Z",
     "start_time": "2021-04-03T23:36:11.310983Z"
    }
   },
   "outputs": [
    {
     "name": "stdout",
     "output_type": "stream",
     "text": [
      "[59863. 60070. 60076. 60029. 59962.]\n"
     ]
    }
   ],
   "source": [
    "print(nums)\n",
    "avg = np.average(nums)"
   ]
  },
  {
   "cell_type": "code",
   "execution_count": 90,
   "metadata": {
    "ExecuteTime": {
     "end_time": "2021-04-03T23:36:42.709858Z",
     "start_time": "2021-04-03T23:36:42.687820Z"
    }
   },
   "outputs": [
    {
     "data": {
      "text/plain": [
       "8.925345095099559"
      ]
     },
     "execution_count": 90,
     "metadata": {},
     "output_type": "execute_result"
    }
   ],
   "source": [
    "np.sqrt(np.std(nums))"
   ]
  },
  {
   "cell_type": "code",
   "execution_count": 94,
   "metadata": {
    "ExecuteTime": {
     "end_time": "2021-04-03T23:46:47.020506Z",
     "start_time": "2021-04-03T23:46:47.012943Z"
    }
   },
   "outputs": [],
   "source": [
    "#INPUT:\n",
    "#arr: array of values\n",
    "#n: top n to return\n",
    "#OUTPUT:\n",
    "# elements: top n elements in list as array \n",
    "def selection(arr, n):\n",
    "    arr = -np.array(arr)\n",
    "    arr_sort = -np.sort(arr)\n",
    "    elements = arr_sort[:n]\n",
    "    return elements"
   ]
  },
  {
   "cell_type": "code",
   "execution_count": 103,
   "metadata": {
    "ExecuteTime": {
     "end_time": "2021-04-04T00:08:29.000315Z",
     "start_time": "2021-04-04T00:08:28.979577Z"
    }
   },
   "outputs": [
    {
     "data": {
      "text/plain": [
       "array([9, 7, 6, 5])"
      ]
     },
     "execution_count": 103,
     "metadata": {},
     "output_type": "execute_result"
    }
   ],
   "source": [
    "ar = [1,5,4,7,6,9]\n",
    "selection(ar,4)"
   ]
  },
  {
   "cell_type": "code",
   "execution_count": 96,
   "metadata": {
    "ExecuteTime": {
     "end_time": "2021-04-04T00:05:33.941107Z",
     "start_time": "2021-04-04T00:05:33.925566Z"
    }
   },
   "outputs": [],
   "source": [
    "#INPUTS:\n",
    "\n",
    "#OUTPUTS:\n",
    "#population: new iteration of list including\n",
    "#           elements of last list and and randomized\n",
    "#           rest of subset population.\n",
    "def repopulate(elements, subset,L, k, n):\n",
    "    #amount r needed to repopulate\n",
    "    r = k - n\n",
    "    #remove elements already included\n",
    "    remain = np.setdiff1d(arr,subset)\n",
    "    # pick r new people\n",
    "    rest = rand_subset(remain, r)\n",
    "    #new people join old population\n",
    "    new_pop = np.concatenate((subset, rest))\n",
    "    return new_pop"
   ]
  },
  {
   "cell_type": "code",
   "execution_count": 126,
   "metadata": {
    "ExecuteTime": {
     "end_time": "2021-04-04T19:54:49.237310Z",
     "start_time": "2021-04-04T19:54:49.213309Z"
    }
   },
   "outputs": [
    {
     "data": {
      "text/plain": [
       "array([[0],\n",
       "       [1],\n",
       "       [2],\n",
       "       [3],\n",
       "       [4],\n",
       "       [5]], dtype=int64)"
      ]
     },
     "execution_count": 126,
     "metadata": {},
     "output_type": "execute_result"
    }
   ],
   "source": [
    "arr = np.array(ar)\n",
    "bool_arr = (arr == 1) \n",
    "np.argwhere(arr)\n"
   ]
  },
  {
   "cell_type": "code",
   "execution_count": 116,
   "metadata": {
    "ExecuteTime": {
     "end_time": "2021-04-04T00:20:53.309058Z",
     "start_time": "2021-04-04T00:20:53.286760Z"
    }
   },
   "outputs": [
    {
     "data": {
      "text/plain": [
       "array([False, False, False, False, False,  True])"
      ]
     },
     "execution_count": 116,
     "metadata": {},
     "output_type": "execute_result"
    }
   ],
   "source": [
    "bool_arr = (arr == 9) \n",
    "bool_arr"
   ]
  },
  {
   "cell_type": "code",
   "execution_count": 119,
   "metadata": {
    "ExecuteTime": {
     "end_time": "2021-04-04T00:22:53.394679Z",
     "start_time": "2021-04-04T00:22:53.375043Z"
    }
   },
   "outputs": [
    {
     "data": {
      "text/plain": [
       "array([ True, False, False, False, False,  True])"
      ]
     },
     "execution_count": 119,
     "metadata": {},
     "output_type": "execute_result"
    }
   ],
   "source": [
    "bool_arr = (arr == i for i in sub)\n",
    "bool_arr ="
   ]
  },
  {
   "cell_type": "code",
   "execution_count": 124,
   "metadata": {
    "ExecuteTime": {
     "end_time": "2021-04-04T19:51:50.091148Z",
     "start_time": "2021-04-04T19:51:50.043150Z"
    }
   },
   "outputs": [],
   "source": [
    "sub = [1,9]\n",
    "bool_arr = (arr == i for i in sub)"
   ]
  },
  {
   "cell_type": "code",
   "execution_count": 125,
   "metadata": {
    "ExecuteTime": {
     "end_time": "2021-04-04T19:51:57.664278Z",
     "start_time": "2021-04-04T19:51:57.648279Z"
    }
   },
   "outputs": [
    {
     "data": {
      "text/plain": [
       "<generator object <genexpr> at 0x00000257F7063AC0>"
      ]
     },
     "execution_count": 125,
     "metadata": {},
     "output_type": "execute_result"
    }
   ],
   "source": [
    "bool_arr\n"
   ]
  },
  {
   "cell_type": "code",
   "execution_count": 130,
   "metadata": {
    "ExecuteTime": {
     "end_time": "2021-04-04T20:48:49.018335Z",
     "start_time": "2021-04-04T20:48:48.998899Z"
    }
   },
   "outputs": [
    {
     "data": {
      "text/plain": [
       "array([4, 5, 6, 7])"
      ]
     },
     "execution_count": 130,
     "metadata": {},
     "output_type": "execute_result"
    }
   ],
   "source": [
    "ar = [1,5,4,7,6,9]\n",
    "np.setdiff1d(ar,[1,9])"
   ]
  },
  {
   "cell_type": "code",
   "execution_count": 132,
   "metadata": {
    "ExecuteTime": {
     "end_time": "2021-04-04T21:07:40.188439Z",
     "start_time": "2021-04-04T21:07:40.172227Z"
    }
   },
   "outputs": [
    {
     "data": {
      "text/plain": [
       "array([1, 5, 4, 7, 6, 9, 1, 5, 4, 7, 6, 9])"
      ]
     },
     "execution_count": 132,
     "metadata": {},
     "output_type": "execute_result"
    }
   ],
   "source": [
    "np.concatenate((ar,ar))"
   ]
  },
  {
   "cell_type": "code",
   "execution_count": null,
   "metadata": {},
   "outputs": [],
   "source": [
    "#Imagine minimization problem: F*a=y (or a*f(x)=y, a linear parameter)\n",
    "#Find the a that gets F*a closest to y\n",
    "#F is mxn matrix with columns populated\n",
    "#by n different f_j(x) functions or features\n",
    "#a is n-vector, y is an m-vector\n",
    "#We are optimizing over a's \n",
    "#but stochastic over the choice i's,\n",
    "#the different row of equations\n",
    "# which is also the equivalent number of loss fucntions\n",
    "\n",
    "#Function space (create your own) (use numpy array)\n",
    "#a: parameters needing optimization (size n)\n",
    "#x: 1d positional scalar \n",
    "#   (may have n variational functionals f_j(x) )\n",
    "#   i.e, a_0*f_0(x)+a_1*f_1(x)+...+a_n*f_n(x)\n",
    "def f(a,x) :\n",
    "    #x = .7\n",
    "    #a = [1,3,5,4]\n",
    "    F = np.array([1,x,x**2,x**3])\n",
    "    return np.dot(a*F)\n",
    "\n",
    "#Possible optional generator of data y\n",
    "#Instead import your own data\n",
    "\n",
    "def y(a,x,s = 1, std = 0):\n",
    "    m = x.size()\n",
    "    n = a.size()\n",
    "    if std == 0:\n",
    "        return f(a,x) + s*np.random.rand(m)\n",
    "    else:\n",
    "        f0 = f(a,x)\n",
    "        rand = np.zeros(m)\n",
    "        for k in range(m):\n",
    "            rand[k] = np.absolute(f(a,x)[k])\n",
    "            return f0 + s*rand*np.random.rand(m)\n",
    "            \n",
    "#Example loss function to be optimized\n",
    "#Note the f(a,x) is better saved as\n",
    "#a global variable between iterations\n",
    "def phi(a,x,y,i):\n",
    "    return (f(a,x) - y[i])^2"
   ]
  },
  {
   "cell_type": "code",
   "execution_count": 4,
   "metadata": {
    "ExecuteTime": {
     "end_time": "2021-04-06T03:41:29.515956Z",
     "start_time": "2021-04-06T03:41:29.491986Z"
    }
   },
   "outputs": [
    {
     "data": {
      "text/plain": [
       "array([ 0.5, -1. ,  1.5,  2. ,  2.5, -3. ,  5. ])"
      ]
     },
     "execution_count": 4,
     "metadata": {},
     "output_type": "execute_result"
    }
   ],
   "source": [
    "nums = np.array([1,-2,3,4,5,-6,10])\n",
    "nums/(np.ones(nums.size)*2)"
   ]
  },
  {
   "cell_type": "code",
   "execution_count": null,
   "metadata": {},
   "outputs": [],
   "source": []
  }
 ],
 "metadata": {
  "kernelspec": {
   "display_name": "Python 3",
   "language": "python",
   "name": "python3"
  },
  "language_info": {
   "codemirror_mode": {
    "name": "ipython",
    "version": 3
   },
   "file_extension": ".py",
   "mimetype": "text/x-python",
   "name": "python",
   "nbconvert_exporter": "python",
   "pygments_lexer": "ipython3",
   "version": "3.8.3"
  },
  "varInspector": {
   "cols": {
    "lenName": 16,
    "lenType": 16,
    "lenVar": 40
   },
   "kernels_config": {
    "python": {
     "delete_cmd_postfix": "",
     "delete_cmd_prefix": "del ",
     "library": "var_list.py",
     "varRefreshCmd": "print(var_dic_list())"
    },
    "r": {
     "delete_cmd_postfix": ") ",
     "delete_cmd_prefix": "rm(",
     "library": "var_list.r",
     "varRefreshCmd": "cat(var_dic_list()) "
    }
   },
   "types_to_exclude": [
    "module",
    "function",
    "builtin_function_or_method",
    "instance",
    "_Feature"
   ],
   "window_display": false
  }
 },
 "nbformat": 4,
 "nbformat_minor": 4
}
