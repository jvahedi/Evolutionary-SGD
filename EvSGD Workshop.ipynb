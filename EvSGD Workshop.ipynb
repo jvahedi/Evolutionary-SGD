{
 "cells": [
  {
   "cell_type": "code",
   "execution_count": 1,
   "metadata": {
    "ExecuteTime": {
     "end_time": "2021-04-15T20:56:05.886323Z",
     "start_time": "2021-04-15T20:56:05.873121Z"
    }
   },
   "outputs": [],
   "source": [
    "import numpy as np"
   ]
  },
  {
   "cell_type": "code",
   "execution_count": 2,
   "metadata": {
    "ExecuteTime": {
     "end_time": "2021-04-15T20:56:07.714162Z",
     "start_time": "2021-04-15T20:56:07.698894Z"
    }
   },
   "outputs": [],
   "source": [
    "#pick k subset of list L\n",
    "#does not work becase of possible repeat integers\n",
    "#def random_subset(L, k):\n",
    "#    s = len(L)\n",
    "#    L = np.array(L)\n",
    "#    #indices to be chosen\n",
    "#    R = s*np.random.rand(k)\n",
    "#    index = R.astype(int)\n",
    "#    return L[index]\n"
   ]
  },
  {
   "cell_type": "code",
   "execution_count": 5,
   "metadata": {
    "ExecuteTime": {
     "end_time": "2021-04-15T20:56:12.836061Z",
     "start_time": "2021-04-15T20:56:12.822823Z"
    }
   },
   "outputs": [],
   "source": [
    "#INPUT:\n",
    "#L: list to randomly choose subset from\n",
    "#k: k sized subset tp pick from array\n",
    "#OUTPUT:\n",
    "#subset: the random subset array picked from original list\n",
    "def rand_subset(L, k):\n",
    "    s = len(L)\n",
    "    items = np.linspace(0,s-1,s).astype(int)\n",
    "    np.random.shuffle(items)\n",
    "    index = items[:k]\n",
    "    L = np.array(L)\n",
    "    subset = L[index]\n",
    "    return subset"
   ]
  },
  {
   "cell_type": "code",
   "execution_count": 4,
   "metadata": {
    "ExecuteTime": {
     "end_time": "2021-04-15T20:56:08.614445Z",
     "start_time": "2021-04-15T20:56:08.410562Z"
    }
   },
   "outputs": [
    {
     "ename": "NameError",
     "evalue": "name 'random_subset' is not defined",
     "output_type": "error",
     "traceback": [
      "\u001b[1;31m---------------------------------------------------------------------------\u001b[0m",
      "\u001b[1;31mNameError\u001b[0m                                 Traceback (most recent call last)",
      "\u001b[1;32m<ipython-input-4-9b29bbc19c0e>\u001b[0m in \u001b[0;36m<module>\u001b[1;34m\u001b[0m\n\u001b[0;32m      1\u001b[0m \u001b[0mlist\u001b[0m \u001b[1;33m=\u001b[0m \u001b[1;33m[\u001b[0m\u001b[1;36m0\u001b[0m\u001b[1;33m,\u001b[0m\u001b[1;36m5\u001b[0m\u001b[1;33m,\u001b[0m\u001b[1;36m10\u001b[0m\u001b[1;33m,\u001b[0m\u001b[1;36m15\u001b[0m\u001b[1;33m,\u001b[0m\u001b[1;36m20\u001b[0m\u001b[1;33m]\u001b[0m\u001b[1;33m\u001b[0m\u001b[1;33m\u001b[0m\u001b[0m\n\u001b[1;32m----> 2\u001b[1;33m \u001b[0mrandom_subset\u001b[0m\u001b[1;33m(\u001b[0m\u001b[0mlist\u001b[0m\u001b[1;33m,\u001b[0m\u001b[1;36m2\u001b[0m\u001b[1;33m)\u001b[0m\u001b[1;33m\u001b[0m\u001b[1;33m\u001b[0m\u001b[0m\n\u001b[0m",
      "\u001b[1;31mNameError\u001b[0m: name 'random_subset' is not defined"
     ]
    }
   ],
   "source": [
    "list = [0,5,10,15,20]\n",
    "random_subset(list,2)"
   ]
  },
  {
   "cell_type": "code",
   "execution_count": 5,
   "metadata": {
    "ExecuteTime": {
     "end_time": "2021-04-06T04:40:56.142316Z",
     "start_time": "2021-04-06T04:40:56.128322Z"
    }
   },
   "outputs": [
    {
     "data": {
      "text/plain": [
       "array([15, 20])"
      ]
     },
     "execution_count": 5,
     "metadata": {},
     "output_type": "execute_result"
    }
   ],
   "source": [
    "rand_subset(list,2)"
   ]
  },
  {
   "cell_type": "code",
   "execution_count": 6,
   "metadata": {
    "ExecuteTime": {
     "end_time": "2021-04-06T04:41:31.396910Z",
     "start_time": "2021-04-06T04:40:56.144316Z"
    }
   },
   "outputs": [],
   "source": [
    "M = np.array([])\n",
    "for i in range(100000):\n",
    "    M = np.append(M,rand_subset(list,3))"
   ]
  },
  {
   "cell_type": "code",
   "execution_count": 6,
   "metadata": {
    "ExecuteTime": {
     "end_time": "2021-04-15T20:56:17.961287Z",
     "start_time": "2021-04-15T20:56:17.685835Z"
    }
   },
   "outputs": [],
   "source": [
    "import matplotlib.pyplot as plt\n",
    "%matplotlib inline"
   ]
  },
  {
   "cell_type": "code",
   "execution_count": 8,
   "metadata": {
    "ExecuteTime": {
     "end_time": "2021-04-06T04:41:32.256799Z",
     "start_time": "2021-04-06T04:41:31.931472Z"
    }
   },
   "outputs": [
    {
     "name": "stdout",
     "output_type": "stream",
     "text": [
      "[15.  5.  0. ...  5. 10. 15.]\n",
      "300000\n"
     ]
    },
    {
     "data": {
      "image/png": "[encoded data removed]",
      "text/plain": [
       "<Figure size 432x288 with 1 Axes>"
      ]
     },
     "metadata": {
      "needs_background": "light"
     },
     "output_type": "display_data"
    }
   ],
   "source": [
    "print(M)\n",
    "print(M.size)\n",
    "hist = plt.hist(M)\n",
    "plt.show()"
   ]
  },
  {
   "cell_type": "code",
   "execution_count": 9,
   "metadata": {
    "ExecuteTime": {
     "end_time": "2021-04-06T04:41:32.272793Z",
     "start_time": "2021-04-06T04:41:32.258794Z"
    }
   },
   "outputs": [],
   "source": [
    "nums = hist[0][[0,2,5,7,9]]"
   ]
  },
  {
   "cell_type": "code",
   "execution_count": 10,
   "metadata": {
    "ExecuteTime": {
     "end_time": "2021-04-06T04:41:32.288796Z",
     "start_time": "2021-04-06T04:41:32.275791Z"
    }
   },
   "outputs": [
    {
     "name": "stdout",
     "output_type": "stream",
     "text": [
      "[60049. 59719. 60017. 60210. 60005.]\n"
     ]
    }
   ],
   "source": [
    "print(nums)\n",
    "avg = np.average(nums)"
   ]
  },
  {
   "cell_type": "code",
   "execution_count": 11,
   "metadata": {
    "ExecuteTime": {
     "end_time": "2021-04-06T04:41:32.304802Z",
     "start_time": "2021-04-06T04:41:32.290791Z"
    }
   },
   "outputs": [
    {
     "data": {
      "text/plain": [
       "12.593804395708721"
      ]
     },
     "execution_count": 11,
     "metadata": {},
     "output_type": "execute_result"
    }
   ],
   "source": [
    "np.sqrt(np.std(nums))"
   ]
  },
  {
   "cell_type": "code",
   "execution_count": 7,
   "metadata": {
    "ExecuteTime": {
     "end_time": "2021-04-15T20:56:20.683392Z",
     "start_time": "2021-04-15T20:56:20.675682Z"
    }
   },
   "outputs": [],
   "source": [
    "#INPUT:\n",
    "#arr: array of values\n",
    "#n: top n to return\n",
    "#OUTPUT:\n",
    "# elements: top n elements in list as array \n",
    "def selection(arr, n):\n",
    "    arr = -np.array(arr)\n",
    "    arr_sort = -np.sort(arr)\n",
    "    elements = arr_sort[:n]\n",
    "    return elements"
   ]
  },
  {
   "cell_type": "code",
   "execution_count": 8,
   "metadata": {
    "ExecuteTime": {
     "end_time": "2021-04-15T20:56:21.019852Z",
     "start_time": "2021-04-15T20:56:20.993191Z"
    }
   },
   "outputs": [
    {
     "data": {
      "text/plain": [
       "array([9, 7, 6, 5])"
      ]
     },
     "execution_count": 8,
     "metadata": {},
     "output_type": "execute_result"
    }
   ],
   "source": [
    "ar = [1,5,4,7,6,9]\n",
    "selection(ar,4)"
   ]
  },
  {
   "cell_type": "code",
   "execution_count": 9,
   "metadata": {
    "ExecuteTime": {
     "end_time": "2021-04-15T20:56:21.463917Z",
     "start_time": "2021-04-15T20:56:21.447908Z"
    }
   },
   "outputs": [],
   "source": [
    "#INPUTS:\n",
    "\n",
    "#OUTPUTS:\n",
    "#population: new iteration of list including\n",
    "#           elements of last list and and randomized\n",
    "#           rest of subset population.\n",
    "def repopulate(elements, subset,L, k, n):\n",
    "    #amount r needed to repopulate\n",
    "    r = k - n\n",
    "    #remove elements already included\n",
    "    remain = np.setdiff1d(arr,subset)\n",
    "    # pick r new people\n",
    "    rest = rand_subset(remain, r)\n",
    "    #new people join old population\n",
    "    new_pop = np.concatenate((subset, rest))\n",
    "    return new_pop"
   ]
  },
  {
   "cell_type": "code",
   "execution_count": 10,
   "metadata": {
    "ExecuteTime": {
     "end_time": "2021-04-15T20:56:22.698674Z",
     "start_time": "2021-04-15T20:56:22.680913Z"
    }
   },
   "outputs": [
    {
     "data": {
      "text/plain": [
       "array([[0],\n",
       "       [1],\n",
       "       [2],\n",
       "       [3],\n",
       "       [4],\n",
       "       [5]], dtype=int64)"
      ]
     },
     "execution_count": 10,
     "metadata": {},
     "output_type": "execute_result"
    }
   ],
   "source": [
    "arr = np.array(ar)\n",
    "bool_arr = (arr == 1) \n",
    "np.argwhere(arr)\n"
   ]
  },
  {
   "cell_type": "code",
   "execution_count": 11,
   "metadata": {
    "ExecuteTime": {
     "end_time": "2021-04-15T20:56:23.114998Z",
     "start_time": "2021-04-15T20:56:23.105970Z"
    }
   },
   "outputs": [
    {
     "data": {
      "text/plain": [
       "array([False, False, False, False, False,  True])"
      ]
     },
     "execution_count": 11,
     "metadata": {},
     "output_type": "execute_result"
    }
   ],
   "source": [
    "bool_arr = (arr == 9) \n",
    "bool_arr"
   ]
  },
  {
   "cell_type": "code",
   "execution_count": 12,
   "metadata": {
    "ExecuteTime": {
     "end_time": "2021-04-15T20:56:23.416200Z",
     "start_time": "2021-04-15T20:56:23.398180Z"
    }
   },
   "outputs": [
    {
     "ename": "SyntaxError",
     "evalue": "invalid syntax (<ipython-input-12-1f267a23f887>, line 2)",
     "output_type": "error",
     "traceback": [
      "\u001b[1;36m  File \u001b[1;32m\"<ipython-input-12-1f267a23f887>\"\u001b[1;36m, line \u001b[1;32m2\u001b[0m\n\u001b[1;33m    bool_arr =\u001b[0m\n\u001b[1;37m              ^\u001b[0m\n\u001b[1;31mSyntaxError\u001b[0m\u001b[1;31m:\u001b[0m invalid syntax\n"
     ]
    }
   ],
   "source": [
    "bool_arr = (arr == i for i in sub)\n",
    "bool_arr ="
   ]
  },
  {
   "cell_type": "code",
   "execution_count": null,
   "metadata": {
    "ExecuteTime": {
     "end_time": "2021-04-06T04:41:32.405788Z",
     "start_time": "2021-04-06T04:40:55.900Z"
    }
   },
   "outputs": [],
   "source": [
    "sub = [1,9]\n",
    "bool_arr = (arr == i for i in sub)"
   ]
  },
  {
   "cell_type": "code",
   "execution_count": null,
   "metadata": {
    "ExecuteTime": {
     "end_time": "2021-04-06T04:41:32.407792Z",
     "start_time": "2021-04-06T04:40:55.902Z"
    }
   },
   "outputs": [],
   "source": [
    "bool_arr\n"
   ]
  },
  {
   "cell_type": "code",
   "execution_count": null,
   "metadata": {
    "ExecuteTime": {
     "end_time": "2021-04-06T04:41:32.409798Z",
     "start_time": "2021-04-06T04:40:55.904Z"
    }
   },
   "outputs": [],
   "source": [
    "ar = [1,5,4,7,6,9]\n",
    "np.setdiff1d(ar,[1,9])"
   ]
  },
  {
   "cell_type": "code",
   "execution_count": null,
   "metadata": {
    "ExecuteTime": {
     "end_time": "2021-04-06T04:41:32.411792Z",
     "start_time": "2021-04-06T04:40:55.906Z"
    }
   },
   "outputs": [],
   "source": [
    "np.concatenate((ar,ar))"
   ]
  },
  {
   "cell_type": "code",
   "execution_count": 13,
   "metadata": {
    "ExecuteTime": {
     "end_time": "2021-04-15T20:56:28.619842Z",
     "start_time": "2021-04-15T20:56:28.598694Z"
    }
   },
   "outputs": [],
   "source": [
    "#Imagine minimization problem: F*a=y (or a*f(x)=y, a linear parameter)\n",
    "#Find the a that gets F*a closest to y\n",
    "#F is mxn matrix with columns populated\n",
    "#by n different f_j(x) functions or features\n",
    "#a is n-vector, y is an m-vector\n",
    "#We are optimizing over a's \n",
    "#but stochastic over the choice i's,\n",
    "#the different row of equations\n",
    "# which is also the equivalent number of loss fucntions\n",
    "\n",
    "#Possible function space \n",
    "#(create your own, make sure to update both)\n",
    "#a: parameters needing optimization (size n), use numpy array\n",
    "#x: 1d positional scalar \n",
    "#   (may have n variational functionals f_j(x) )\n",
    "#   i.e, a_0*f_0(x)+a_1*f_1(x)+...+a_n*f_n(x)\n",
    "\n",
    "def F(x):\n",
    "    return np.array([1,x,x**2,x**3])\n",
    "\n",
    "def f(a,x) :\n",
    "    #x = .7\n",
    "    #a = [1,3,5,4]\n",
    "    #F = np.array([1,x,x**2,x**3])\n",
    "    F1 = F(x)\n",
    "    return np.dot(a,F1)\n",
    "\n",
    "#Exact gradient of f(a,x), linear in a, in repsect to 'a'\n",
    "def grad_f(a,x):\n",
    "    #x = .7\n",
    "    #a = [1,3,5,4]\n",
    "    grad_F = F(x)\n",
    "    return F(x)\n",
    "\n",
    "#Possible optional generator of data y\n",
    "#Instead import your own data\n",
    "#a linear factors (numpy array)\n",
    "#x x values in f(a,x) (scalar or numpy array)\n",
    "#s: variance/size of noise\n",
    "#norm: variance dependence on size of f(a,x)\n",
    "\n",
    "def Y(a,x,s = 1, norm = False):\n",
    "    m = x.size\n",
    "    if norm == False:\n",
    "        return np.array([x, f(a,x) + np.random.normal(0,s,m)])\n",
    "    else:\n",
    "        f0 = f(a,x)\n",
    "        nor = np.zeros(m)\n",
    "        for i in range(m):\n",
    "            nor[i] = np.absolute(f0[i])\n",
    "        return np.array([x,f0 + nor*np.random.normal(0,s,m)])\n",
    "            \n",
    "#Example loss function to be optimized\n",
    "#Note the f(a,x) is better updated as\n",
    "#a global variable between iterations\n",
    "\n",
    "#a: array of linear coefficients\n",
    "#x: scalar of absicca\n",
    "#y: scalar of ordiante \n",
    "def phi(a,x,y):\n",
    "    return (f(a,x) - y)^2\n",
    "\n",
    "\n",
    "#Given phi loss function above\n",
    "#Local Gradient\n",
    "def grad_phi(a,x,y):\n",
    "    return 2*(f(a,x)-y)*grad_f(a,x)"
   ]
  },
  {
   "cell_type": "code",
   "execution_count": null,
   "metadata": {
    "ExecuteTime": {
     "end_time": "2021-04-06T04:41:32.414791Z",
     "start_time": "2021-04-06T04:40:55.911Z"
    }
   },
   "outputs": [],
   "source": [
    "nums = np.array([1,-2,3,4,5,-6,10])\n",
    "nums/(np.ones(nums.size)*2)"
   ]
  },
  {
   "cell_type": "code",
   "execution_count": 14,
   "metadata": {
    "ExecuteTime": {
     "end_time": "2021-04-15T20:56:31.653937Z",
     "start_time": "2021-04-15T20:56:31.643662Z"
    }
   },
   "outputs": [],
   "source": [
    "#Main Evolutionary Stochastic Gradient Descent Algorithm\n",
    "#INPUTS:\n",
    "#a0: intial guess for parameters a (can be randomly assigned or zero vector)\n",
    "#C: coordinate data [x,y] x grouped and y grouped\n",
    "#K: size of stochastic subset of data to gradient-step in\n",
    "#eta: learning-rate/stepping size\n",
    "#num: number of iterations/steps\n",
    "def evSGD(a0, C, eta, K, num):\n",
    "    #size of Operator\n",
    "    m = np.size(C,1)\n",
    "    n = np.size(a0)\n",
    "    \n",
    "    A = np.array((num,n))\n",
    "    A[0] = a0\n",
    "    L = [i for i in range(m)]\n",
    "    \n",
    "    for l in range(1,Num):\n",
    "        \n",
    "        L_k = rand_subset(L,K)\n",
    "\n",
    "        G = np.zeros(m)\n",
    "        for j in L_k:\n",
    "            G = G + grad_phi(a0,C[0][j],C[1][j])\n",
    "\n",
    "        A[l] = A[l-1] - eta*G\n",
    "        \n",
    "    return A\n",
    "\n",
    "    \n",
    "    \n",
    "    \n",
    "    "
   ]
  },
  {
   "cell_type": "code",
   "execution_count": 17,
   "metadata": {
    "ExecuteTime": {
     "end_time": "2021-04-15T20:56:55.795326Z",
     "start_time": "2021-04-15T20:56:55.658268Z"
    }
   },
   "outputs": [
    {
     "name": "stderr",
     "output_type": "stream",
     "text": [
      "<ipython-input-13-58f3b9d34787>:19: VisibleDeprecationWarning: Creating an ndarray from ragged nested sequences (which is a list-or-tuple of lists-or-tuples-or ndarrays with different lengths or shapes) is deprecated. If you meant to do this, you must specify 'dtype=object' when creating the ndarray\n",
      "  return np.array([1,x,x**2,x**3])\n"
     ]
    },
    {
     "data": {
      "image/png": "[encoded data removed]",
      "text/plain": [
       "<Figure size 432x288 with 1 Axes>"
      ]
     },
     "metadata": {
      "needs_background": "light"
     },
     "output_type": "display_data"
    }
   ],
   "source": [
    "M = Y(np.array([1,1,0,0]),np.array([i for i in range(50)]), s = .1, norm = True)\n",
    "plt.scatter(M[0],M[1])\n",
    "Z = np.linspace(np.amin(M[0]),np.max(M[0]),100)\n",
    "W = 1 + Z\n",
    "plt.plot(Z,W)\n",
    "plt.show()"
   ]
  },
  {
   "cell_type": "code",
   "execution_count": 37,
   "metadata": {
    "ExecuteTime": {
     "end_time": "2021-04-10T06:04:01.191622Z",
     "start_time": "2021-04-10T06:04:01.170222Z"
    }
   },
   "outputs": [
    {
     "data": {
      "text/plain": [
       "3"
      ]
     },
     "execution_count": 37,
     "metadata": {},
     "output_type": "execute_result"
    }
   ],
   "source": [
    "C = np.array([[1,2],[3,40],[4,5]])\n",
    "np.size(C,0)"
   ]
  },
  {
   "cell_type": "code",
   "execution_count": 39,
   "metadata": {
    "ExecuteTime": {
     "end_time": "2021-04-10T06:12:27.754197Z",
     "start_time": "2021-04-10T06:12:27.731554Z"
    }
   },
   "outputs": [
    {
     "data": {
      "text/plain": [
       "1"
      ]
     },
     "execution_count": 39,
     "metadata": {},
     "output_type": "execute_result"
    }
   ],
   "source": [
    "C[0][0]"
   ]
  },
  {
   "cell_type": "code",
   "execution_count": null,
   "metadata": {},
   "outputs": [],
   "source": []
  }
 ],
 "metadata": {
  "kernelspec": {
   "display_name": "Python 3",
   "language": "python",
   "name": "python3"
  },
  "language_info": {
   "codemirror_mode": {
    "name": "ipython",
    "version": 3
   },
   "file_extension": ".py",
   "mimetype": "text/x-python",
   "name": "python",
   "nbconvert_exporter": "python",
   "pygments_lexer": "ipython3",
   "version": "3.8.3"
  },
  "varInspector": {
   "cols": {
    "lenName": 16,
    "lenType": 16,
    "lenVar": 40
   },
   "kernels_config": {
    "python": {
     "delete_cmd_postfix": "",
     "delete_cmd_prefix": "del ",
     "library": "var_list.py",
     "varRefreshCmd": "print(var_dic_list())"
    },
    "r": {
     "delete_cmd_postfix": ") ",
     "delete_cmd_prefix": "rm(",
     "library": "var_list.r",
     "varRefreshCmd": "cat(var_dic_list()) "
    }
   },
   "types_to_exclude": [
    "module",
    "function",
    "builtin_function_or_method",
    "instance",
    "_Feature"
   ],
   "window_display": false
  }
 },
 "nbformat": 4,
 "nbformat_minor": 4
}
